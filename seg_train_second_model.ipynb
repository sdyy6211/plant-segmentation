{
 "cells": [
  {
   "cell_type": "code",
   "execution_count": 1,
   "metadata": {},
   "outputs": [],
   "source": [
    "import pandas as pd\n",
    "from PIL import Image\n",
    "import matplotlib.pyplot as plt\n",
    "import requests\n",
    "import os\n",
    "import numpy as np\n",
    "\n",
    "import torch\n",
    "from torchvision import models\n",
    "from torch.nn import CrossEntropyLoss\n",
    "from torch.nn.functional import softmax\n",
    "from torch.optim import Adam,lr_scheduler\n",
    "from torch.nn import functional as F\n",
    "from torchvision import transforms\n",
    "from torch.utils.data import Dataset\n",
    "\n",
    "from utils_d import *\n",
    "\n",
    "device = torch.device(\"cuda:0\")\n",
    "\n",
    "import sys\n",
    "sys.path.append(r'D:\\codes\\python\\area51m\\pytorch_deeplab_xception')\n",
    "from pytorch_deeplab_xception.modeling import deeplab\n",
    "\n",
    "import os\n",
    "os.environ['TORCH_HOME'] = r'\\\\DESKTOP-lhj25h0\\E\\ftp\\data\\MODELS' "
   ]
  },
  {
   "cell_type": "code",
   "execution_count": 2,
   "metadata": {},
   "outputs": [],
   "source": [
    "num_c = 2\n",
    "\n",
    "dl = deeplab.DeepLab(num_classes=num_c,backbone = 'resnet').to(device)\n",
    "\n",
    "for name, param in dl.named_parameters():                \n",
    "    if name.startswith('backbone'):\n",
    "        param.requires_grad = False"
   ]
  },
  {
   "cell_type": "code",
   "execution_count": 3,
   "metadata": {},
   "outputs": [],
   "source": [
    "image_size = (250,400)\n",
    "\n",
    "transform = transforms.Compose([transforms.Resize(image_size),\n",
    "                                transforms.ColorJitter(brightness = 0.15,\n",
    "                                                       saturation = 0.1,\n",
    "                                                       hue = 0.01,\n",
    "                                                       contrast = 0.15),\n",
    "                                transforms.ToTensor(),\n",
    "                                transforms.Normalize([0.485, 0.456, 0.406],[0.229, 0.224, 0.225])])"
   ]
  },
  {
   "cell_type": "code",
   "execution_count": 4,
   "metadata": {},
   "outputs": [],
   "source": [
    "data = pd.read_csv(r'E:\\UCL\\Dissertation\\label\\cropped_lb.csv')\n",
    "\n",
    "dataset_train = Segdata(transform,image_size,\n",
    "                        r'cropped_lb.csv',r'E:\\UCL\\Dissertation\\label',['cropped_input','cropped_download'])\n",
    "\n",
    "dataset_test = Segdata(transform,image_size,\n",
    "                       r'cropped_lb_test.csv',r'E:\\UCL\\Dissertation\\label',['cropped_input_test','cropped_download_test'])\n",
    "\n",
    "dataloader_train = torch.utils.data.DataLoader(dataset_train, batch_size=6, \n",
    "                                         shuffle=True, num_workers=0,drop_last  = True)\n",
    "\n",
    "dataloader_test = torch.utils.data.DataLoader(dataset_test, batch_size=6, num_workers=0,drop_last  = False)"
   ]
  },
  {
   "cell_type": "code",
   "execution_count": 5,
   "metadata": {},
   "outputs": [],
   "source": [
    "plist = [\n",
    "         {'params': dl.decoder.parameters(),'lr':1e-2}\n",
    "         ]\n",
    "\n",
    "freq = get_frequency(data,image_size,2,r'E:\\UCL\\Dissertation\\label','cropped_download')\n",
    "\n",
    "criterion = CrossEntropyLoss(weight=1/freq)\n",
    "\n",
    "optimizer = Adam(params=plist)\n",
    "\n",
    "scheduler = lr_scheduler.StepLR(optimizer, step_size=33,gamma=0.1)\n",
    "\n",
    "loss_list = []\n",
    "\n",
    "best_val_loss = float('inf')\n",
    "\n",
    "n_epoch = 1"
   ]
  },
  {
   "cell_type": "code",
   "execution_count": 6,
   "metadata": {},
   "outputs": [
    {
     "name": "stdout",
     "output_type": "stream",
     "text": [
      "finished 1th training\n",
      "training loss: 0.6063100880589979, training iou: 0.40848583319292103\n",
      "validation loss: 0.5739181280136109, validation iou: 0.4300800965743753\n"
     ]
    }
   ],
   "source": [
    "for epoch in range(n_epoch):\n",
    "    training_loss,training_iou = train(dl,dataloader_train,optimizer,criterion,loss_list,num_c)\n",
    "    val_loss,val_iou = evaluate(dl,dataloader_test,criterion,num_c)\n",
    "    scheduler.step()\n",
    "    print('finished {0}th training'.format(epoch+1))\n",
    "    print('training loss: {0}, training iou: {1}'.format(training_loss.item(),training_iou))\n",
    "    print('validation loss: {0}, validation iou: {1}'.format(val_loss.item(),val_iou))\n",
    "    \n",
    "    if val_loss < best_val_loss:\n",
    "        best_val_loss = val_loss\n",
    "        torch.save(dl.state_dict(), r'E:\\UCL\\Dissertation\\label\\model_deeplabv3+resnet.pt')"
   ]
  },
  {
   "cell_type": "code",
   "execution_count": 7,
   "metadata": {},
   "outputs": [
    {
     "data": {
      "text/plain": [
       "[<matplotlib.lines.Line2D at 0x299810c52e8>]"
      ]
     },
     "execution_count": 7,
     "metadata": {},
     "output_type": "execute_result"
    },
    {
     "data": {
      "image/png": "[encoded data removed]",
      "text/plain": [
       "<Figure size 432x288 with 1 Axes>"
      ]
     },
     "metadata": {
      "needs_background": "light"
     },
     "output_type": "display_data"
    }
   ],
   "source": [
    "plt.plot(loss_list)"
   ]
  }
 ],
 "metadata": {
  "kernelspec": {
   "display_name": "Python 3",
   "language": "python",
   "name": "python3"
  },
  "language_info": {
   "codemirror_mode": {
    "name": "ipython",
    "version": 3
   },
   "file_extension": ".py",
   "mimetype": "text/x-python",
   "name": "python",
   "nbconvert_exporter": "python",
   "pygments_lexer": "ipython3",
   "version": "3.7.3"
  }
 },
 "nbformat": 4,
 "nbformat_minor": 2
}
