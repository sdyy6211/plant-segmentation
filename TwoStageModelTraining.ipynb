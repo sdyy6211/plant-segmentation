{
 "cells": [
  {
   "cell_type": "code",
   "execution_count": 1,
   "metadata": {},
   "outputs": [],
   "source": [
    "import pandas as pd\n",
    "from PIL import Image\n",
    "import matplotlib.pyplot as plt\n",
    "import requests\n",
    "import os\n",
    "import numpy as np\n",
    "\n",
    "import torch\n",
    "from torchvision import models\n",
    "from torch.nn import CrossEntropyLoss\n",
    "from torch.nn.functional import softmax\n",
    "from torch.optim import Adam,lr_scheduler\n",
    "from torch.nn import functional as F\n",
    "from torchvision import transforms\n",
    "from torch.utils.data import Dataset"
   ]
  },
  {
   "cell_type": "code",
   "execution_count": 2,
   "metadata": {},
   "outputs": [],
   "source": [
    "Deeplabv3plus_path = r'E:\\codes\\python\\area51m\\seg_halfprecision\\plant-segmentation'\n",
    "Data_path = r'E:\\codes\\python\\area51m\\seg_halfprecision\\plant-segmentation'\n",
    "CroppedTrainingLabelNames = 'CroppedTrainingLabelNames.csv'\n",
    "CroppedTestLabelNames = 'CroppedTestLabelNames.csv'\n",
    "CroppedTraining_input_folder = 'cropped_input'\n",
    "CroppedTraining_label_folder = 'cropped_label'\n",
    "CroppedTest_input_folder = 'cropped_input_test'\n",
    "CroppedTest_label_folder = 'cropped_label_test'\n",
    "ModelPath = r'E:\\data\\MODELS' \n",
    "TwoStageModelName = 'twostage_model'"
   ]
  },
  {
   "cell_type": "code",
   "execution_count": 3,
   "metadata": {},
   "outputs": [],
   "source": [
    "from utils import *\n",
    "import sys\n",
    "import os\n",
    "\n",
    "device = torch.device(\"cuda:0\")\n",
    "\n",
    "sys.path.append(Deeplabv3plus_path)\n",
    "sys.path.append(Deeplabv3plus_path+r'\\pytorch_deeplab_xception')\n",
    "from pytorch_deeplab_xception.modeling import deeplab\n",
    "\n",
    "os.environ['TORCH_HOME'] = ModelPath"
   ]
  },
  {
   "cell_type": "code",
   "execution_count": 4,
   "metadata": {},
   "outputs": [],
   "source": [
    "num_c = 2\n",
    "\n",
    "dl = deeplab.DeepLab(num_classes=num_c,backbone = 'resnet').to(device)\n",
    "\n",
    "for name, param in dl.named_parameters():                \n",
    "    if name.startswith('backbone'):\n",
    "        param.requires_grad = False"
   ]
  },
  {
   "cell_type": "code",
   "execution_count": 5,
   "metadata": {},
   "outputs": [],
   "source": [
    "image_size = (200,200)\n",
    "\n",
    "transform = transforms.Compose([transforms.Resize(image_size),\n",
    "                                transforms.ColorJitter(brightness = 0.15,\n",
    "                                                       saturation = 0.1,\n",
    "                                                       hue = 0.01,\n",
    "                                                       contrast = 0.15),\n",
    "                                transforms.ToTensor(),\n",
    "                                transforms.Normalize([0.485, 0.456, 0.406],[0.229, 0.224, 0.225])])"
   ]
  },
  {
   "cell_type": "code",
   "execution_count": 6,
   "metadata": {},
   "outputs": [],
   "source": [
    "data = pd.read_csv(r'{0}\\{1}'.format(Data_path,CroppedTrainingLabelNames))\n",
    "\n",
    "dataset_train = Segdata(transform,image_size,\n",
    "                        CroppedTrainingLabelNames,Data_path,[CroppedTraining_input_folder,CroppedTraining_label_folder])\n",
    "\n",
    "dataset_test = Segdata(transform,image_size,\n",
    "                       CroppedTestLabelNames,Data_path,[CroppedTest_input_folder,CroppedTest_label_folder])\n",
    "\n",
    "dataloader_train = torch.utils.data.DataLoader(dataset_train, batch_size=6, \n",
    "                                         shuffle=True, num_workers=0,drop_last  = True)\n",
    "\n",
    "dataloader_test = torch.utils.data.DataLoader(dataset_test, batch_size=1, num_workers=0,drop_last  = False)"
   ]
  },
  {
   "cell_type": "code",
   "execution_count": 7,
   "metadata": {},
   "outputs": [],
   "source": [
    "plist = [\n",
    "         {'params': dl.decoder.parameters(),'lr':1e-2}\n",
    "         ]\n",
    "\n",
    "freq = 1/get_frequency(data,image_size,num_c,Data_path,CroppedTraining_label_folder)\n",
    "\n",
    "criterion = CrossEntropyLoss(weight=freq)\n",
    "\n",
    "optimizer = Adam(params=plist)\n",
    "\n",
    "scheduler = lr_scheduler.StepLR(optimizer, step_size=33,gamma=0.1)\n",
    "\n",
    "train_loss_list = []\n",
    "test_loss_list = []\n",
    "\n",
    "best_val_loss = float('inf')\n",
    "\n",
    "n_epoch = 50"
   ]
  },
  {
   "cell_type": "code",
   "execution_count": null,
   "metadata": {},
   "outputs": [
    {
     "name": "stdout",
     "output_type": "stream",
     "text": [
      "finished 1th training\n",
      "training loss: 0.5442003027118486, training iou: 0.46611311668062305\n",
      "validation loss: 0.4940067201231917, validation iou: 0.43870349676925646\n"
     ]
    }
   ],
   "source": [
    "for epoch in range(n_epoch):\n",
    "    training_loss,training_iou = train(dl,dataloader_train,optimizer,criterion,train_loss_list,num_c)\n",
    "    val_loss,val_iou = evaluate(dl,dataloader_test,criterion,test_loss_list,num_c)\n",
    "    scheduler.step()\n",
    "    print('finished {0}th training'.format(epoch+1))\n",
    "    print('training loss: {0}, training iou: {1}'.format(training_loss.item(),training_iou))\n",
    "    print('validation loss: {0}, validation iou: {1}'.format(val_loss.item(),val_iou))\n",
    "    \n",
    "    if val_loss < best_val_loss:\n",
    "        best_val_loss = val_loss\n",
    "        torch.save(dl.state_dict(), r'{0}\\{1}_best.pt'.format(ModelPath,TwoStageModelName))\n",
    "torch.save(dl.state_dict(), r'{0}\\{1}_last.pt'.format(ModelPath,TwoStageModelName))"
   ]
  }
 ],
 "metadata": {
  "kernelspec": {
   "display_name": "Python [conda env:py38]",
   "language": "python",
   "name": "conda-env-py38-py"
  },
  "language_info": {
   "codemirror_mode": {
    "name": "ipython",
    "version": 3
   },
   "file_extension": ".py",
   "mimetype": "text/x-python",
   "name": "python",
   "nbconvert_exporter": "python",
   "pygments_lexer": "ipython3",
   "version": "3.8.3"
  }
 },
 "nbformat": 4,
 "nbformat_minor": 2
}
