{
 "cells": [
  {
   "cell_type": "code",
   "execution_count": 1,
   "metadata": {},
   "outputs": [],
   "source": [
    "import pandas as pd\n",
    "from PIL import Image\n",
    "import matplotlib.pyplot as plt\n",
    "import requests\n",
    "import os\n",
    "import numpy as np\n",
    "\n",
    "import torch\n",
    "from torchvision import models\n",
    "from torch.nn import CrossEntropyLoss\n",
    "from torch.nn.functional import softmax\n",
    "from torch.optim import Adam,lr_scheduler\n",
    "from torch.nn import functional as F\n",
    "from torchvision import transforms\n",
    "from torch.utils.data import Dataset"
   ]
  },
  {
   "cell_type": "code",
   "execution_count": 21,
   "metadata": {},
   "outputs": [],
   "source": [
    "Deeplabv3plus_path = r'E:\\codes\\python\\area51m\\seg_halfprecision\\plant-segmentation'\n",
    "Data_path = r'E:\\codes\\python\\area51m\\seg_halfprecision\\plant-segmentation'\n",
    "TrainingLabelNames = 'TrainingLabelNames.csv'\n",
    "TestLabelNames = 'TestLabelNames.csv'\n",
    "Training_input_folder = 'input'\n",
    "Training_label_folder = 'label'\n",
    "Test_input_folder = 'input_test'\n",
    "Test_label_folder = 'label_test'\n",
    "ModelPath = r'E:\\data\\MODELS' \n",
    "OneStageModelName = 'onestage_model'"
   ]
  },
  {
   "cell_type": "code",
   "execution_count": 8,
   "metadata": {},
   "outputs": [],
   "source": [
    "from utils import *\n",
    "import sys\n",
    "import os\n",
    "\n",
    "device = torch.device(\"cuda:0\")\n",
    "\n",
    "sys.path.append(Deeplabv3plus_path)\n",
    "sys.path.append(Deeplabv3plus_path+r'\\pytorch_deeplab_xception')\n",
    "from pytorch_deeplab_xception.modeling import deeplab\n",
    "\n",
    "os.environ['TORCH_HOME'] = ModelPath"
   ]
  },
  {
   "cell_type": "code",
   "execution_count": 9,
   "metadata": {},
   "outputs": [],
   "source": [
    "num_c = 8\n",
    "\n",
    "dl = deeplab.DeepLab(num_classes=num_c,backbone = 'resnet',output_stride = 16).to(device)\n",
    "\n",
    "for name, param in dl.named_parameters():                \n",
    "    if name.startswith('backbone'):\n",
    "        param.requires_grad = False"
   ]
  },
  {
   "cell_type": "code",
   "execution_count": 10,
   "metadata": {},
   "outputs": [],
   "source": [
    "image_size = (900,900)\n",
    "\n",
    "transform = transforms.Compose([transforms.Resize(image_size),\n",
    "                                transforms.ColorJitter(brightness = 0.15,\n",
    "                                                       saturation = 0.1,\n",
    "                                                       hue = 0.01,\n",
    "                                                       contrast = 0.15),\n",
    "                                transforms.ToTensor(),\n",
    "                                transforms.Normalize([0.485, 0.456, 0.406],[0.229, 0.224, 0.225])])"
   ]
  },
  {
   "cell_type": "code",
   "execution_count": 22,
   "metadata": {},
   "outputs": [],
   "source": [
    "data = pd.read_csv(r'{0}\\{1}'.format(Data_path,TrainingLabelNames))\n",
    "\n",
    "dataset_train = Segdata(transform,image_size,\n",
    "                        TrainingLabelNames,Data_path,[Training_input_folder,Training_label_folder])\n",
    "\n",
    "dataset_test = Segdata(transform,image_size,\n",
    "                       TestLabelNames,Data_path,[Test_input_folder,Test_label_folder])\n",
    "\n",
    "dataloader_train = torch.utils.data.DataLoader(dataset_train, batch_size=6, \n",
    "                                         shuffle=True, num_workers=0,drop_last  = True)\n",
    "\n",
    "dataloader_test = torch.utils.data.DataLoader(dataset_test, batch_size=1, num_workers=0,drop_last  = False)"
   ]
  },
  {
   "cell_type": "code",
   "execution_count": 13,
   "metadata": {},
   "outputs": [],
   "source": [
    "freq = 1/get_frequency(data,image_size,num_c,Data_path,Training_label_folder)"
   ]
  },
  {
   "cell_type": "code",
   "execution_count": 16,
   "metadata": {},
   "outputs": [],
   "source": [
    "plist = [\n",
    "         {'params': dl.parameters(),'lr':1e-2}\n",
    "         ]\n",
    "\n",
    "criterion = CrossEntropyLoss(ignore_index = 0,weight = torch.log(freq)/torch.log(freq).sum())\n",
    "\n",
    "optimizer = Adam(params=plist)\n",
    "        \n",
    "scheduler = lr_scheduler.StepLR(optimizer, step_size=50,gamma=0.1)\n",
    "\n",
    "loss_list_train = []\n",
    "\n",
    "loss_list_test = []\n",
    "\n",
    "best_val_loss = float('inf')\n",
    "\n",
    "n_epoch = 100"
   ]
  },
  {
   "cell_type": "code",
   "execution_count": 23,
   "metadata": {},
   "outputs": [
    {
     "name": "stdout",
     "output_type": "stream",
     "text": [
      "finished 1th training\n",
      "training loss: 0.3158927341302236, training iou: 0.44726441992047544\n",
      "validation loss: 0.27931625880301, validation iou: 0.48960903927472144\n"
     ]
    }
   ],
   "source": [
    "for epoch in range(n_epoch):\n",
    "    training_loss,training_iou = train(dl,dataloader_train,optimizer,criterion,loss_list_train,num_c)\n",
    "    val_loss,val_iou = evaluate(dl,dataloader_test,criterion,loss_list_test,num_c)\n",
    "    scheduler.step()\n",
    "    print('finished {0}th training'.format(epoch+1))\n",
    "    print('training loss: {0}, training iou: {1}'.format(training_loss.item(),training_iou))\n",
    "    print('validation loss: {0}, validation iou: {1}'.format(val_loss.item(),val_iou))\n",
    "    \n",
    "    if val_loss < best_val_loss:\n",
    "        best_val_loss = val_loss\n",
    "        torch.save(dl.state_dict(), r'{0}\\{1}_best.pt'.format(ModelPath,OneStageModelName))\n",
    "torch.save(dl.state_dict(), r'{0}\\{1}_last.pt'.format(ModelPath,OneStageModelName))"
   ]
  }
 ],
 "metadata": {
  "kernelspec": {
   "display_name": "Python [conda env:py38]",
   "language": "python",
   "name": "conda-env-py38-py"
  },
  "language_info": {
   "codemirror_mode": {
    "name": "ipython",
    "version": 3
   },
   "file_extension": ".py",
   "mimetype": "text/x-python",
   "name": "python",
   "nbconvert_exporter": "python",
   "pygments_lexer": "ipython3",
   "version": "3.8.3"
  }
 },
 "nbformat": 4,
 "nbformat_minor": 2
}
